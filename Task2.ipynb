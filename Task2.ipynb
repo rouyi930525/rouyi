{
 "cells": [
  {
   "cell_type": "code",
   "execution_count": 3,
   "id": "a2fc3580",
   "metadata": {},
   "outputs": [],
   "source": [
    "import pandas as pd\n",
    "\n",
    "# 設定 CSV 檔案的路徑\n",
    "csv_file_path_111 = '111.csv '\n",
    "csv_file_path_112 = '112.csv'\n",
    "\n",
    "# 使用 pandas 的 read_csv 函式讀取 CSV 檔案並將其轉換為 DataFrame\n",
    "df_111 = pd.read_csv(csv_file_path_111)\n",
    "df_112 = pd.read_csv(csv_file_path_112)"
   ]
  },
  {
   "cell_type": "code",
   "execution_count": null,
   "id": "b5e0d040",
   "metadata": {},
   "outputs": [],
   "source": []
  }
 ],
 "metadata": {
  "kernelspec": {
   "display_name": "Python 3 (ipykernel)",
   "language": "python",
   "name": "python3"
  },
  "language_info": {
   "codemirror_mode": {
    "name": "ipython",
    "version": 3
   },
   "file_extension": ".py",
   "mimetype": "text/x-python",
   "name": "python",
   "nbconvert_exporter": "python",
   "pygments_lexer": "ipython3",
   "version": "3.11.4"
  }
 },
 "nbformat": 4,
 "nbformat_minor": 5
}
