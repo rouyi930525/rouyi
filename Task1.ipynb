{
 "cells": [
  {
   "cell_type": "code",
   "execution_count": 2,
   "id": "78374a70",
   "metadata": {},
   "outputs": [],
   "source": [
    "import pandas as pd\n",
    "\n",
    "# 設定 CSV 檔案的路徑\n",
    "csv_file_path_this = 'this.csv'\n",
    "csv_file_path_last = 'last.csv'\n",
    "\n",
    "# 使用 pandas 的 read_csv 函式讀取 CSV 檔案並將其轉換為 DataFrame\n",
    "df_this = pd.read_csv(csv_file_path_this)\n",
    "df_last = pd.read_csv(csv_file_path_last)"
   ]
  },
  {
   "cell_type": "code",
   "execution_count": 3,
   "id": "2da442bb",
   "metadata": {},
   "outputs": [
    {
     "name": "stdout",
     "output_type": "stream",
     "text": [
      "{'烏梅子醬', '想和你看五月的晚霞', '從前說', '你是我這輩子最想愛的呀', '查無此心', '如果可以', '我會等', '孤勇者'}\n"
     ]
    }
   ],
   "source": [
    "# 從 DataFrame 中取出學生名稱欄位，假設欄位名稱為 '學生名稱'，你可以根據實際情況調整\n",
    "song_names_this = df_this['歌名']\n",
    "song_names_last = df_last['歌名']\n",
    "\n",
    "\n",
    "# 將學生名稱轉換為 set 資料型態\n",
    "song_names_this_set = set(song_names_this)\n",
    "song_names_last_set = set(song_names_last)\n",
    "\n",
    "#同時選了PECU的程式語言和網際網路概論的學生是哪幾位\n",
    "print( song_names_this_set & song_names_last_set )"
   ]
  },
  {
   "cell_type": "code",
   "execution_count": null,
   "id": "81586390",
   "metadata": {},
   "outputs": [],
   "source": []
  },
  {
   "cell_type": "code",
   "execution_count": null,
   "id": "cf265e6e",
   "metadata": {},
   "outputs": [],
   "source": []
  }
 ],
 "metadata": {
  "kernelspec": {
   "display_name": "Python 3 (ipykernel)",
   "language": "python",
   "name": "python3"
  },
  "language_info": {
   "codemirror_mode": {
    "name": "ipython",
    "version": 3
   },
   "file_extension": ".py",
   "mimetype": "text/x-python",
   "name": "python",
   "nbconvert_exporter": "python",
   "pygments_lexer": "ipython3",
   "version": "3.11.4"
  }
 },
 "nbformat": 4,
 "nbformat_minor": 5
}
