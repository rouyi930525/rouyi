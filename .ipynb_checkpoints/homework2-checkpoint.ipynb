{
 "cells": [
  {
   "cell_type": "code",
   "execution_count": null,
   "id": "9563d0ac",
   "metadata": {},
   "outputs": [],
   "source": [
    "#將資料化為易讀形式並按照學測報名序號印出\n",
    "import json\n",
    "import pprint as pp\n",
    "\n",
    "with open('111學年度總榜單.json', encoding='utf-8') as file:\n",
    "    data = json.load(file)\n",
    "    \n",
    "sorted_data = sorted(data, key=lambda x: x['學測報名序號'])\n",
    "print(\"按照學測報名序號排列：\")\n",
    "pp.pprint(sorted_data, sort_dicts=False)"
   ]
  },
  {
   "cell_type": "code",
   "execution_count": null,
   "id": "049143c3",
   "metadata": {},
   "outputs": [],
   "source": [
    "# Q1 輸入學測報名序號，找出其相關信息\n",
    "\n",
    "# 輸入學測報名序號\n",
    "search_id = input(\"請輸入學測報名序號：\")\n",
    "\n",
    "# 查找信息\n",
    "found = False\n",
    "for student_info in data:\n",
    "    if student_info.get('學測報名序號') == search_id:\n",
    "        print(\"學測報名序號：\", student_info.get('學測報名序號'))\n",
    "        print(\"班級：\", student_info.get('班級'))\n",
    "        print(\"座號：\", student_info.get('座號'))\n",
    "        print(\"錄取學校：\", student_info.get('錄取學校'))\n",
    "        print(\"錄取系所：\", student_info.get('錄取系所'))\n",
    "        print(\"入學管道：\", student_info.get('入學管道'))\n",
    "        found = True\n",
    "        break\n",
    "\n",
    "if not found:\n",
    "    print(\"找不到該學測報名序號\")"
   ]
  },
  {
   "cell_type": "code",
   "execution_count": null,
   "id": "4204b9a9",
   "metadata": {},
   "outputs": [],
   "source": [
    "# Q2 輸入錄取學校，查看有哪些考生錄取該校的什麼系所\n",
    "\n",
    "# 輸入學校\n",
    "search_school = input(\"請輸入錄取學校：\")\n",
    "\n",
    "# 查找信息\n",
    "found = False\n",
    "for student_info in data:\n",
    "     if student_info.get('錄取學校') == search_school:\n",
    "            print(\"學測報名序號：\", student_info.get('學測報名序號'))\n",
    "            print(\"班級：\", student_info.get('班級'))\n",
    "            print(\"座號：\", student_info.get('座號'))\n",
    "            print(\"錄取系所：\", student_info.get('錄取系所'))\n",
    "            found = True\n",
    "            break\n",
    "            \n",
    "if not found:\n",
    "    print(\"找不到該錄取學校\")"
   ]
  },
  {
   "cell_type": "code",
   "execution_count": null,
   "id": "2984df9f",
   "metadata": {},
   "outputs": [],
   "source": [
    "# Q3 輸入入學管道，查看有哪些考生是利用該管道入學的且錄取什麼校系\n",
    "\n",
    "# 輸入入學管道\n",
    "search_function = input(\"請輸入入學管道：\")\n",
    "\n",
    "# 查找信息\n",
    "found = False\n",
    "for student_info in data:\n",
    "     if student_info.get('錄取學校') == search_function:\n",
    "            print(\"學測報名序號：\", student_info.get('學測報名序號'))\n",
    "            print(\"班級：\", student_info.get('班級'))\n",
    "            print(\"座號：\", student_info.get('座號'))\n",
    "            print(\"錄取學校：\", student_info.get('錄取學校'))\n",
    "            print(\"錄取系所：\", student_info.get('錄取系所'))\n",
    "            found = True\n",
    "            break\n",
    "            \n",
    "if not found:\n",
    "    print(\"找不到該入學管道\")"
   ]
  }
 ],
 "metadata": {
  "kernelspec": {
   "display_name": "Python 3 (ipykernel)",
   "language": "python",
   "name": "python3"
  },
  "language_info": {
   "codemirror_mode": {
    "name": "ipython",
    "version": 3
   },
   "file_extension": ".py",
   "mimetype": "text/x-python",
   "name": "python",
   "nbconvert_exporter": "python",
   "pygments_lexer": "ipython3",
   "version": "3.11.4"
  }
 },
 "nbformat": 4,
 "nbformat_minor": 5
}
